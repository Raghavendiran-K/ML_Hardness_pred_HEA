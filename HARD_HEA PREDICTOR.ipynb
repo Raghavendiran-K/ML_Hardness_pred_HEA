{
 "cells": [
  {
   "cell_type": "code",
   "execution_count": null,
   "id": "7d5adb9f",
   "metadata": {},
   "outputs": [],
   "source": [
    "from sklearn.utils import shuffle\n",
    "import pandas as pd\n",
    "import joblib\n",
    "from sklearn.metrics import mean_squared_error,r2_score,mean_absolute_error, mean_absolute_percentage_error\n",
    "import numpy as np\n",
    "from sklearn.preprocessing import MinMaxScaler\n",
    "from xgboost import XGBRegressor\n",
    "import warnings\n",
    "import scipy.stats as sp"
   ]
  },
  {
   "cell_type": "code",
   "execution_count": null,
   "id": "ab6646b3",
   "metadata": {},
   "outputs": [],
   "source": [
    "joblib_file = joblib.load(\"1_XGB_all.model\")  #use the dumped model\n",
    "joblib_file"
   ]
  },
  {
   "cell_type": "code",
   "execution_count": null,
   "id": "4412dd54",
   "metadata": {},
   "outputs": [],
   "source": [
    "cols=[\"Index\",\"Hv30\",\"delta\",\"entropy\",\"RC\",\"NC\",\"W\",\"Cr\",\"DC\",\"EI\",\"DV\"]\n",
    "data=pd.read_csv(r\"./HARD_HEA.csv\",usecols=cols)\n",
    "data.drop([\"Index\"],axis=1,inplace=True)\n",
    "        \n",
    "y=data[\"Hv30\"]\n",
    "X=data.drop(\"Hv30\",axis=1)\n",
    "\n",
    "#print(X,y,sep = '\\n')\n",
    "std=MinMaxScaler()\n",
    "X_predict=std.fit_transform(X)\n",
    "features = list(X.columns)\n",
    "#print(features)\n",
    "y_predict = joblib_file.predict(X_predict)\n",
    "print(y_predict)"
   ]
  }
 ],
 "metadata": {
  "kernelspec": {
   "display_name": "Python 3",
   "language": "python",
   "name": "python3"
  },
  "language_info": {
   "codemirror_mode": {
    "name": "ipython",
    "version": 3
   },
   "file_extension": ".py",
   "mimetype": "text/x-python",
   "name": "python",
   "nbconvert_exporter": "python",
   "pygments_lexer": "ipython3",
   "version": "3.8.8"
  }
 },
 "nbformat": 4,
 "nbformat_minor": 5
}
