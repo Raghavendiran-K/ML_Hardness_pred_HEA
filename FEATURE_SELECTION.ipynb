{
 "cells": [
  {
   "cell_type": "code",
   "execution_count": null,
   "id": "ab4d65ec",
   "metadata": {},
   "outputs": [],
   "source": [
    "import pandas as pd\n",
    "from sklearn.model_selection import train_test_split\n",
    "from sklearn.utils import shuffle\n",
    "from sklearn.feature_selection import RFECV\n",
    "from sklearn.ensemble import RandomForestRegressor\n",
    "from sklearn.metrics import mean_squared_error,r2_score,mean_absolute_error\n",
    "from sklearn.model_selection import train_test_split,GridSearchCV\n",
    "import numpy as np\n",
    "from sklearn.preprocessing import MinMaxScaler\n",
    "import warnings\n",
    "import matplotlib.pyplot as plt"
   ]
  },
  {
   "cell_type": "code",
   "execution_count": null,
   "id": "7e53d5e5",
   "metadata": {},
   "outputs": [],
   "source": [
    "data=pd.read_csv(r\"./H111.csv\")\n",
    "testdata=pd.read_csv(r\"./H3876_Hypothetical.csv\")\n",
    "data = shuffle(data)\n",
    "data.drop([\"Index\"],axis=1,inplace=True)\n",
    "\n",
    "testindex=testdata[\"Index\"] ####################\n",
    "testdata.drop([\"Index\"],axis=1,inplace=True)\n",
    "\n",
    "y=data[\"Hv30\"]\n",
    "X=data.drop(\"Hv30\",axis=1)\n",
    "  \n",
    "\n",
    "X_train, X_test, y_train, y_test = train_test_split( X, y, test_size=0.2)\n",
    "std=MinMaxScaler()\n",
    "X_train=std.fit_transform(X_train)\n",
    "X_test=std.transform(X_test) #STANDARDISING test inputs\n",
    "y_predict=testdata[\"Hv30\"]\n",
    "X_predict=testdata.drop(\"Hv30\",axis=1)\n",
    "X_predict=std.transform(X_predict)\n",
    "features = list(X.columns)"
   ]
  },
  {
   "cell_type": "code",
   "execution_count": null,
   "id": "69836f96",
   "metadata": {},
   "outputs": [],
   "source": [
    "rf = RandomForestRegressor(random_state=0)\n",
    "rf.fit(X_train,y_train)"
   ]
  },
  {
   "cell_type": "code",
   "execution_count": null,
   "id": "d6c1d40b",
   "metadata": {},
   "outputs": [],
   "source": [
    "f_i = list(zip(features,rf.feature_importances_))\n",
    "f_i.sort(key = lambda x : x[1])\n",
    "print(f_i)"
   ]
  }
 ],
 "metadata": {
  "kernelspec": {
   "display_name": "Python 3",
   "language": "python",
   "name": "python3"
  },
  "language_info": {
   "codemirror_mode": {
    "name": "ipython",
    "version": 3
   },
   "file_extension": ".py",
   "mimetype": "text/x-python",
   "name": "python",
   "nbconvert_exporter": "python",
   "pygments_lexer": "ipython3",
   "version": "3.8.8"
  }
 },
 "nbformat": 4,
 "nbformat_minor": 5
}
